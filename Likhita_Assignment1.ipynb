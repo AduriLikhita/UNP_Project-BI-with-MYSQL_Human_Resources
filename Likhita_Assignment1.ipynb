{
  "nbformat": 4,
  "nbformat_minor": 0,
  "metadata": {
    "colab": {
      "provenance": [],
      "authorship_tag": "ABX9TyMMdDYETYjGcOKnHsACB9r5",
      "include_colab_link": true
    },
    "kernelspec": {
      "name": "python3",
      "display_name": "Python 3"
    },
    "language_info": {
      "name": "python"
    }
  },
  "cells": [
    {
      "cell_type": "markdown",
      "metadata": {
        "id": "view-in-github",
        "colab_type": "text"
      },
      "source": [
        "<a href=\"https://colab.research.google.com/github/AduriLikhita/UNP_Project-BI-with-MYSQL_Human_Resources/blob/main/Likhita_Assignment1.ipynb\" target=\"_parent\"><img src=\"https://colab.research.google.com/assets/colab-badge.svg\" alt=\"Open In Colab\"/></a>"
      ]
    },
    {
      "cell_type": "code",
      "execution_count": null,
      "metadata": {
        "colab": {
          "base_uri": "https://localhost:8080/"
        },
        "id": "Rv4z18DOS5HD",
        "outputId": "b4cdd5ed-4681-48e6-b4f4-6d7e5abba749"
      },
      "outputs": [
        {
          "output_type": "stream",
          "name": "stdout",
          "text": [
            "Story: \n",
            "\tOnce upon a time, in a land far away,\n",
            "\tA curious adventurer embarked on a journey\n",
            "\tThrough enchanted forests and mountains gray.\n",
            "\tEncountering challenges along the way,\n",
            "\tThe adventurer learned and grew each day.\n",
            "\tDid they find the treasure? Who can say?\n",
            "Poem:\n",
            "\tIn the twilight's embrace, where shadows dance,\n",
            "\tWhispers of the wind tell a tale of romance. \n",
            "\tStars above, witnesses to a cosmic trance,\n",
            "\tMoonlight weaves dreams, a celestial advance.\n",
            "\tDo dreams linger on the night's expanse?\n",
            "\tOr do they vanish like a fleeting chance?\n"
          ]
        }
      ],
      "source": [
        "print(\"Story: \\n\\tOnce upon a time, in a land far away,\\n\\tA curious adventurer embarked on a journey\\n\\tThrough enchanted forests and mountains gray.\\n\\tEncountering challenges along the way,\\n\\tThe adventurer learned and grew each day.\\n\\tDid they find the treasure? Who can say?\")\n",
        "\n",
        "print(\"Poem:\\n\\tIn the twilight's embrace, where shadows dance,\\n\\tWhispers of the wind tell a tale of romance. \\n\\tStars above, witnesses to a cosmic trance,\\n\\tMoonlight weaves dreams, a celestial advance.\\n\\tDo dreams linger on the night's expanse?\\n\\tOr do they vanish like a fleeting chance?\")\n"
      ]
    },
    {
      "cell_type": "code",
      "source": [
        "#A) For a given rectangular field with length 'L' and width 'W',\n",
        "# where the area 'A' is calculated using the formula A = L * W,\n",
        "#if the length is 15 units and the width is 8 units, what is the total area of the rectangular field?\n",
        "\n",
        "L= 15\n",
        "W= 8\n",
        "A= L*W\n",
        "print(A)"
      ],
      "metadata": {
        "colab": {
          "base_uri": "https://localhost:8080/"
        },
        "id": "I0xcPNglTMT5",
        "outputId": "977ed227-ce87-4ad5-8d25-45676243e05f"
      },
      "execution_count": null,
      "outputs": [
        {
          "output_type": "stream",
          "name": "stdout",
          "text": [
            "120\n"
          ]
        }
      ]
    },
    {
      "cell_type": "code",
      "source": [
        "#B) A bakery produces 500 loaves of bread each day.\n",
        "# If the production cost per loaf is $1.50 and each loaf is sold for $3.00, what is the daily profit for the bakery?\n",
        "\n",
        "Production= 500\n",
        "Cost= Production * 1.5\n",
        "Selling= Production * 3\n",
        "Profit = Selling - Cost\n",
        "print(Profit)"
      ],
      "metadata": {
        "colab": {
          "base_uri": "https://localhost:8080/"
        },
        "id": "93vmOr5gTWbt",
        "outputId": "7958fe29-0e1c-4224-c6b4-a25b79ec0e82"
      },
      "execution_count": null,
      "outputs": [
        {
          "output_type": "stream",
          "name": "stdout",
          "text": [
            "750.0\n"
          ]
        }
      ]
    },
    {
      "cell_type": "code",
      "source": [
        "#C) In a savings account, an initial deposit of $1000 earns an annual interest rate of 5%.\n",
        "# How much money will be in the account after 3 years, considering compound interest?\n",
        "\n",
        "P= 1000\n",
        "R= 5\n",
        "N= 3\n",
        "Compound= P*(1+R/100)**N\n",
        "print(Compound)"
      ],
      "metadata": {
        "colab": {
          "base_uri": "https://localhost:8080/"
        },
        "id": "vFMx8LzDTbE2",
        "outputId": "69793f20-02cc-4e17-9448-1f805a321dc8"
      },
      "execution_count": null,
      "outputs": [
        {
          "output_type": "stream",
          "name": "stdout",
          "text": [
            "1157.6250000000002\n"
          ]
        }
      ]
    },
    {
      "cell_type": "code",
      "source": [
        "a= 327\n",
        "b= 367\n",
        "if a==b:\n",
        "  print(\"a is equal to b\")\n",
        "else:\n",
        "  print(\"a is not equal to b\")\n"
      ],
      "metadata": {
        "colab": {
          "base_uri": "https://localhost:8080/"
        },
        "id": "Gd9fkLcPThoc",
        "outputId": "641107b8-6f27-43bf-f4a3-afd3aa5bd5a3"
      },
      "execution_count": null,
      "outputs": [
        {
          "output_type": "stream",
          "name": "stdout",
          "text": [
            "a is not equal to b\n"
          ]
        }
      ]
    },
    {
      "cell_type": "code",
      "source": [
        "x= int(input(\"Enter a Number: \"))\n",
        "y= int(input(\"Enter a Number: \"))\n",
        "if x<=y:\n",
        "  print(\"x is less than or equal to y\")\n",
        "else:\n",
        "  print(\"x is greater than y\")"
      ],
      "metadata": {
        "colab": {
          "base_uri": "https://localhost:8080/"
        },
        "id": "DAvzJl6wTkbg",
        "outputId": "e27d8f88-3bf0-4d6b-bb62-a70b30511b0e"
      },
      "execution_count": null,
      "outputs": [
        {
          "output_type": "stream",
          "name": "stdout",
          "text": [
            "Enter a Number: 50\n",
            "Enter a Number: 40\n",
            "x is greater than y\n"
          ]
        }
      ]
    },
    {
      "cell_type": "code",
      "source": [],
      "metadata": {
        "id": "Nmcu6ZznTu1Z"
      },
      "execution_count": null,
      "outputs": []
    }
  ]
}